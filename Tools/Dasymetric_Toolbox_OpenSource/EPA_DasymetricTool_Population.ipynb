{
 "cells": [
  {
   "cell_type": "markdown",
   "id": "b1a961b5",
   "metadata": {},
   "source": [
    "![data cube logo](https://static.wixstatic.com/media/8959d6_a13dc7ece5be4678af57c8f7c1667734~mv2.png/v1/fill/w_279,h_177,al_c,q_85,usm_0.66_1.00_0.01,enc_auto/VSDC_DataCubeSplash_6Partner_edited.png)\n",
    "# Descriptive title that follows notebook filename\n",
    "\n",
    " - Sign up to the VA Datacube (INSERT LINK) to run this notebook interactively from a browser\n",
    " - <b>Compatibility</b>: Notebook currently compatible with both the NCI and DEA Sandbox environments    \n",
    "\n",
    " - <b>Products used</b>:\n",
    "    \n",
    "    products....\n",
    " \n",
    " - <b>Special requirements:</b> An optional description of any special requirements, e.g. If running on the NCI, ensure that\n",
    "    module load otps is run prior to launching this notebook\n",
    " \n",
    " - <b>Prerequisites:</b> An <i>optional</i> list of any notebooks that should be run or content that should be understood\n",
    "    prior to launching this notebook\n",
    " \n",
    " - <b>Notebook Use:</b> If you would like to modify and save this notebook, please copy and paste it into your own folder on the data cube, here is how:\n",
    "\n",
    " \n"
   ]
  },
  {
   "cell_type": "markdown",
   "id": "26bba8c7",
   "metadata": {},
   "source": [
    "## Background\n",
    "\n",
    "\n",
    "An <i>optional</i> overview of the scientific, economic or environmental management issue or challenge being addressed by Digital Earth Australia. For Beginners_Guide or Frequently_Used_Code notebooks, this may include information about why the particular technique or approach is useful or required. If you need to cite a scientific paper or link to a website, use a persistent DOI link if possible and link in-text (e.g. Dhu et al. 2017).\n",
    "\n",
    "## Overview\n",
    "Dasymetric mapping is a geospatial technique that uses information such as land cover types to more accurately distribute data within selected boundaries like census blocks.\n",
    "\n",
    "The Intelligent Dasymetric Mapping (IDM) Toolbox is available to download. This toolbox uses Python 3.6 and open source GIS libraries. An additional version is available as a [toolbox for ESRI ArcGIS Pro](https://github.com/USEPA/Dasymetric-Toolbox-ArcGISPro)\n",
    "\n",
    "\n",
    "<figure>\n",
    "  <img src=\"https://www.epa.gov/sites/default/files/2015-07/dasymetric_728x210.jpg\" alt=\"Dasymetric example image\"/>\n",
    "  <figcaption><sup>The image on the left shows a map of the population by block group based solely on the census data. The image on the right shows the dasymetric population allocation for several block groups in Tampa, Fla.</sup></figcaption>  \n",
    "</figure>\n",
    "<br>\n",
    "\n",
    "\n",
    "-   EnviroAtlas researchers use the dasymetric data to calculate the distribution of ecosystem services, and other metrics including walking distances, viewsheds, resource use, and exposure potential.\n",
    "-   For more information on the Dasymetric data created for EnviroAtlas, see our [website](https://www.epa.gov/enviroatlas/dasymetric-toolbox) or  [Dasymetric Allocation of Population Fact Sheet](https://enviroatlas.epa.gov/enviroatlas/DataFactSheets/pdf/Supplemental/DasymetricAllocationofPopulation.pdf).\n",
    "\n",
    "The EnviroAtlas Intelligent Dasymetric Toolbox for Open Source GIS is currently in development. The most recent release for ESRI ArcMap 10.3 is available at [https://www.epa.gov/enviroatlas/dasymetric-toolbox](https://www.epa.gov/enviroatlas/dasymetric-toolbox).\n",
    "\n",
    "\n",
    "- Name: Open source Intelligent Dasymetric Mapping (IDM) script\n",
    "\n",
    "- Author: Anam Khan\n",
    "\n",
    "- Date: 5/1/19\n",
    "\n",
    "- Description: Intelligent Dasymetric Mapping (IDM) disaggregates population \n",
    "    counts enumerated by vector source units to the spatial resolution of a \n",
    "    categorical ancillary raster containing classes that are indicative of the \n",
    "    spatial distribution of population within the source units. This script is \n",
    "    an open source version of the EnviroAtlas IDM toolbox developed by \n",
    "    Torrin Hultgren for ArcMap: https://www.epa.gov/enviroatlas/dasymetric-toolbox.\n",
    "    This version follows the publication by Mennis and Hultgren (2006) with the\n",
    "    exception that class densities for unsampled ancillary classes are calculated\n",
    "    using census polygons where the population estimated for sampled/preset \n",
    "    ancillary classes did not exceed the census population.\n",
    "\n",
    "- Modified on: 09/27/2023\n",
    "- By: Blake Steiner\n",
    "- Purpose: To create a Virginia Datacube friendly version for population vulnerability in other notebooks."
   ]
  },
  {
   "cell_type": "markdown",
   "id": "c3370de1",
   "metadata": {},
   "source": [
    "## Description\n",
    "\n",
    "A <i>compulsory</i> description of the notebook, including a brief overview of how Digital Earth Australia helps to address the problem set out above. It can be good to include a run-down of the tools/methods that will be demonstrated in the notebook:\n",
    "\n",
    "1. First we do this\n",
    "2. Then we do this\n",
    "3. Finally we do this"
   ]
  },
  {
   "cell_type": "markdown",
   "id": "6a10a543",
   "metadata": {},
   "source": [
    "---------------------------------------------------------------------------------------------------------------------------"
   ]
  },
  {
   "cell_type": "markdown",
   "id": "d1d817a9",
   "metadata": {},
   "source": [
    "## Getting started\n",
    "\n",
    "\n",
    "Provide any particular instructions that the user might need, e.g. To run this analysis, run all the cells in the notebook, starting with the \"Load packages\" cell."
   ]
  },
  {
   "cell_type": "markdown",
   "id": "5881476c",
   "metadata": {},
   "source": [
    "### Load packages\n",
    "Import Python packages that are used for the analysis.\n",
    "\n",
    "Use standard import commands; some are shown below. Begin with any iPython magic commands, followed by standard Python packages, then any additional functionality you need from the Scripts directory."
   ]
  },
  {
   "cell_type": "code",
   "execution_count": 1,
   "id": "1c851db3",
   "metadata": {},
   "outputs": [],
   "source": [
    "%matplotlib inline\n",
    "\n",
    "import datacube\n",
    "import matplotlib.pyplot as plt\n",
    "import os, sys, json\n",
    "from osgeo import gdal, ogr\n",
    "import numpy as np\n",
    "import pandas as pd\n",
    "import geopandas as gp\n",
    "import argparse as ap"
   ]
  },
  {
   "cell_type": "markdown",
   "id": "36877232",
   "metadata": {},
   "source": [
    "### Connect to the datacube\n",
    "\n",
    "Connect to the datacube so we can access DEA data. The app parameter is a unique name for the analysis which is based on the notebook file name"
   ]
  },
  {
   "cell_type": "code",
   "execution_count": null,
   "id": "fe072223",
   "metadata": {},
   "outputs": [],
   "source": [
    "dc = datacube.Datacube(app='DEA_notebooks_template')"
   ]
  },
  {
   "cell_type": "markdown",
   "id": "52e0ded8",
   "metadata": {},
   "source": [
    "### Analysis parameters\n",
    "An optional section to inform the user of any parameters they'll need to configure to run the notebook:\n",
    " - param_name_1: Simple description (e.g. example_value). Advice about appropriate values to choose for this parameter.\n",
    " - param_name_2: Simple description (e.g. example_value). Advice about appropriate values to choose for this parameter.\n",
    "\n",
    " "
   ]
  },
  {
   "cell_type": "code",
   "execution_count": null,
   "id": "eb60c43b",
   "metadata": {},
   "outputs": [],
   "source": [
    "param_name_1 = 'example_value'\n",
    "param_name_2 = 'example_value'"
   ]
  },
  {
   "cell_type": "markdown",
   "id": "bd5d270a",
   "metadata": {},
   "source": [
    "## Census Data and API\n",
    "\n",
    "Use headings to break up key steps/stages of the notebook.\n",
    "\n",
    "Use markdown text for detailed, descriptive text explaining what the code below does and why it is needed.\n",
    "\n",
    "<b>Note</b>: Use this markdown format (sparingly) to draw particular attention to an important point or caveat"
   ]
  },
  {
   "cell_type": "code",
   "execution_count": null,
   "id": "1ff8da02",
   "metadata": {},
   "outputs": [],
   "source": [
    "# Use code comments for low-level documentation of code\n",
    "a = 1"
   ]
  },
  {
   "cell_type": "markdown",
   "id": "7da4ff41",
   "metadata": {},
   "source": [
    "### Subheading 1\n",
    "\n",
    "Use subheadings to break up steps within a single section."
   ]
  },
  {
   "cell_type": "code",
   "execution_count": null,
   "id": "7b209aea",
   "metadata": {},
   "outputs": [],
   "source": [
    "# Use code comments for low-level documentation of code\n",
    "b = 2"
   ]
  },
  {
   "cell_type": "markdown",
   "id": "98914fc3",
   "metadata": {},
   "source": [
    "## Dasymetric IDM Function \n",
    "\n",
    "Use markdown text for detailed, descriptive text explaining what the code below does and why it is needed.\n"
   ]
  },
  {
   "cell_type": "code",
   "execution_count": 1,
   "id": "9f55b31c",
   "metadata": {},
   "outputs": [],
   "source": [
    "# Use code comments for low-level documentation of code\n",
    "c = 3"
   ]
  },
  {
   "cell_type": "markdown",
   "id": "d47015aa-985e-4b11-8f8d-8d3db05c7144",
   "metadata": {},
   "source": [
    "## Dasymetric Implementation "
   ]
  },
  {
   "cell_type": "code",
   "execution_count": null,
   "id": "c40dc52e-dec3-4235-aba1-aa3cb99e1967",
   "metadata": {},
   "outputs": [],
   "source": []
  },
  {
   "cell_type": "markdown",
   "id": "a1add747",
   "metadata": {},
   "source": [
    "## Additional information\n",
    "\n",
    "<b>License:</b> The code in this notebook is licensed under the Apache License, Version 2.0. Digital Earth Australia data is licensed under the Creative Commons by Attribution 4.0 license.\n",
    "\n",
    "<b>Contact:</b> If you need assistance, please post a question on the Open Data Cube Slack channel or on the GIS Stack Exchange using the open-data-cube tag (you can view previously asked questions here). If you would like to report an issue with this notebook, you can file one on Github.\n",
    "\n",
    "<b>Last modified:</b> May 2020\n",
    "\n",
    "<b>Compatible datacube version:</b>"
   ]
  },
  {
   "cell_type": "code",
   "execution_count": null,
   "id": "0437ddd5",
   "metadata": {},
   "outputs": [],
   "source": [
    "print(datacube.__version__)"
   ]
  },
  {
   "cell_type": "markdown",
   "id": "b9b4c2e9",
   "metadata": {},
   "source": [
    "## Tags \n",
    "Browse all available tags on the VA Data Cube User Guide's Tags Index "
   ]
  }
 ],
 "metadata": {
  "kernelspec": {
   "display_name": "Python 3 (ipykernel)",
   "language": "python",
   "name": "python3"
  },
  "language_info": {
   "codemirror_mode": {
    "name": "ipython",
    "version": 3
   },
   "file_extension": ".py",
   "mimetype": "text/x-python",
   "name": "python",
   "nbconvert_exporter": "python",
   "pygments_lexer": "ipython3",
   "version": "3.9.7"
  }
 },
 "nbformat": 4,
 "nbformat_minor": 5
}
