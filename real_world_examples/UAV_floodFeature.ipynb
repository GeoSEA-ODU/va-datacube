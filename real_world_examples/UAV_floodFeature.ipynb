{
 "cells": [
  {
   "cell_type": "markdown",
   "id": "b1a961b5",
   "metadata": {
    "tags": []
   },
   "source": [
    "![data cube logo](https://static.wixstatic.com/media/8959d6_a13dc7ece5be4678af57c8f7c1667734~mv2.png/v1/fill/w_279,h_177,al_c,q_85,usm_0.66_1.00_0.01,enc_auto/VSDC_DataCubeSplash_6Partner_edited.png)\n",
    "# Extraction of Flood Features from UAV RGB Imagery\n",
    "\n",
    " - Sign up to the [VA Datacube](https://www.data4va.org/) to run this notebook interactively from a browser\n",
    " - <b>Compatibility</b>: Notebook currently compatible with the Virginia DataCube Sandbox environments      \n",
    " - <b>Products used</b>:\n",
    "    UAV imagery of Colonial Place Site A (shared/UAV_test_imagery/SiteA-RGB.tiff)\n",
    " - <b>Special requirements:</b> None\n",
    " - <b>Prerequisites:</b> None\n",
    " \n",
    " test\n",
    "    "
   ]
  },
  {
   "cell_type": "markdown",
   "id": "26bba8c7",
   "metadata": {},
   "source": [
    "## Background\n",
    "\n",
    "\n",
    "An <i>optional</i> overview of the scientific, economic or environmental management issue or challenge being addressed by Digital Earth Australia. For Beginners_Guide or Frequently_Used_Code notebooks, this may include information about why the particular technique or approach is useful or required. If you need to cite a scientific paper or link to a website, use a persistent DOI link if possible and link in-text (e.g. Dhu et al. 2017)."
   ]
  },
  {
   "cell_type": "markdown",
   "id": "c3370de1",
   "metadata": {
    "tags": []
   },
   "source": [
    "## Description\n",
    "\n",
    "A <i>compulsory</i> description of the notebook, including a brief overview of how the VA data cube helps to address the problem set out above. It can be good to include a run-down of the tools/methods that will be demonstrated in the notebook:\n",
    "\n",
    "1. First we will explore the histogram of the imagery\n",
    "2. Then we will try a threshold method to extract flood footprints\n",
    "3. Next we will use an unsupervised classification method to extract flood footprints\n",
    "4. After that we will derive flood extent lines from both methods\n",
    "5. Finally we will compare the results of both methods"
   ]
  },
  {
   "cell_type": "markdown",
   "id": "6a10a543",
   "metadata": {},
   "source": [
    "---------------------------------------------------------------------------------------------------------------------------"
   ]
  },
  {
   "cell_type": "markdown",
   "id": "d1d817a9",
   "metadata": {},
   "source": [
    "## Getting started\n",
    "\n",
    "\n",
    "Provide any particular instructions that the user might need, e.g. To run this analysis, run all the cells in the notebook, starting with the \"Load packages\" cell."
   ]
  },
  {
   "cell_type": "markdown",
   "id": "5881476c",
   "metadata": {},
   "source": [
    "### Load packages\n",
    "Import Python packages that are used for the analysis.\n",
    "\n",
    "Use standard import commands; some are shown below. Begin with any iPython magic commands, followed by standard Python packages, then any additional functionality you need from the Scripts directory."
   ]
  },
  {
   "cell_type": "code",
   "execution_count": 1,
   "id": "1c851db3",
   "metadata": {},
   "outputs": [],
   "source": [
    "%matplotlib inline\n",
    "\n",
    "import sys\n",
    "import datacube\n",
    "import matplotlib.pyplot as plt\n",
    "import numpy as np\n",
    "import pandas as pd\n",
    "import xarray as xr\n",
    "from sklearn import cluster\n",
    "from osgeo import gdal, gdal_array"
   ]
  },
  {
   "cell_type": "markdown",
   "id": "36877232",
   "metadata": {},
   "source": [
    "### Connect to the datacube\n",
    "\n",
    "Connect to the datacube so we can access VA data cube data. The app parameter is a unique name for the analysis which is based on the notebook file name"
   ]
  },
  {
   "cell_type": "code",
   "execution_count": 2,
   "id": "fe072223",
   "metadata": {},
   "outputs": [],
   "source": [
    "dc = datacube.Datacube()"
   ]
  },
  {
   "cell_type": "markdown",
   "id": "52e0ded8",
   "metadata": {},
   "source": [
    "### Analysis parameters\n",
    "An optional section to inform the user of any parameters they'll need to configure to run the notebook:\n",
    " - param_name_1: Simple description (e.g. example_value). Advice about appropriate values to choose for this parameter.\n",
    " - param_name_2: Simple description (e.g. example_value). Advice about appropriate values to choose for this parameter.\n",
    "\n",
    " "
   ]
  },
  {
   "cell_type": "code",
   "execution_count": null,
   "id": "eb60c43b",
   "metadata": {},
   "outputs": [],
   "source": [
    "param_name_1 = 'example_value'\n",
    "param_name_2 = 'example_value'"
   ]
  },
  {
   "cell_type": "markdown",
   "id": "bd5d270a",
   "metadata": {},
   "source": [
    "## Using K Means to Extract Flood Footprint\n",
    "\n",
    "Use headings to break up key steps/stages of the notebook.\n",
    "\n",
    "Use markdown text for detailed, descriptive text explaining what the code below does and why it is needed.\n",
    "\n",
    "<b>Note</b>: Use this markdown format (sparingly) to draw particular attention to an important point or caveat"
   ]
  },
  {
   "cell_type": "markdown",
   "id": "b1392847-5d84-49c2-a46b-364248ac4885",
   "metadata": {},
   "source": [
    "### Read in one band of the raster\n",
    "\n",
    "Let's read in one band of the GeoTiff and normalize the data for K means and see what we get. "
   ]
  },
  {
   "cell_type": "code",
   "execution_count": null,
   "id": "0ce20537-22ed-4beb-b824-bd679836f0a3",
   "metadata": {
    "tags": []
   },
   "outputs": [
    {
     "name": "stdout",
     "output_type": "stream",
     "text": [
      "<osgeo.gdal.Dataset; proxy of <Swig Object of type 'GDALDatasetShadow *' at 0x7fbeaa2c8c00> >\n",
      "(18922, 34721)\n",
      "(656990762, 1)\n"
     ]
    }
   ],
   "source": [
    "# Read in raster image \n",
    "img_ds = gdal.Open('/home/jupyter-68bca889-0317-429c-8193d/shared/UAV_test_imagery/SiteA-RGB.tiff', gdal.GA_ReadOnly)\n",
    "\n",
    "print(img_ds)\n",
    "\n",
    "\n",
    "band = img_ds.GetRasterBand(2)\n",
    "\n",
    "img = band.ReadAsArray()\n",
    "print (img.shape)\n",
    "\n",
    "X = img.reshape((-1,1))\n",
    "print (X.shape)\n",
    "\n",
    "\n",
    "k_means = cluster.KMeans(n_clusters=8)\n",
    "k_means.fit(X)\n",
    "\n",
    "X_cluster = k_means.labels_\n",
    "X_cluster = X_cluster.reshape(img.shape)\n",
    "\n",
    "print (len(X_cluster))"
   ]
  },
  {
   "cell_type": "markdown",
   "id": "7da4ff41",
   "metadata": {},
   "source": [
    "### Read in all three bands of the raster\n",
    "\n",
    "Here, we are going to read in all three bands of the GeoTiff and normalize the data for K means. "
   ]
  },
  {
   "cell_type": "code",
   "execution_count": 4,
   "id": "7b209aea",
   "metadata": {},
   "outputs": [
    {
     "name": "stderr",
     "output_type": "stream",
     "text": [
      "ERROR 4: ./shared/UAV_test_imagery/SiteA-RGB.tiff: No such file or directory\n"
     ]
    },
    {
     "ename": "AttributeError",
     "evalue": "'NoneType' object has no attribute 'RasterYSize'",
     "output_type": "error",
     "traceback": [
      "\u001b[0;31m---------------------------------------------------------------------------\u001b[0m",
      "\u001b[0;31mAttributeError\u001b[0m                            Traceback (most recent call last)",
      "Input \u001b[0;32mIn [5]\u001b[0m, in \u001b[0;36m<cell line: 5>\u001b[0;34m()\u001b[0m\n\u001b[1;32m      1\u001b[0m \u001b[38;5;66;03m# Read in raster image \u001b[39;00m\n\u001b[1;32m      2\u001b[0m img_ds \u001b[38;5;241m=\u001b[39m gdal\u001b[38;5;241m.\u001b[39mOpen(\u001b[38;5;124m'\u001b[39m\u001b[38;5;124m./shared/UAV_test_imagery/SiteA-RGB.tiff\u001b[39m\u001b[38;5;124m'\u001b[39m, gdal\u001b[38;5;241m.\u001b[39mGA_ReadOnly)\n\u001b[0;32m----> 5\u001b[0m img \u001b[38;5;241m=\u001b[39m np\u001b[38;5;241m.\u001b[39mzeros((\u001b[43mimg_ds\u001b[49m\u001b[38;5;241;43m.\u001b[39;49m\u001b[43mRasterYSize\u001b[49m, img_ds\u001b[38;5;241m.\u001b[39mRasterXSize, img_ds\u001b[38;5;241m.\u001b[39mRasterCount),\n\u001b[1;32m      6\u001b[0m                gdal_array\u001b[38;5;241m.\u001b[39mGDALTypeCodeToNumericTypeCode(img_ds\u001b[38;5;241m.\u001b[39mGetRasterBand(\u001b[38;5;241m1\u001b[39m)\u001b[38;5;241m.\u001b[39mDataType))\n\u001b[1;32m      8\u001b[0m \u001b[38;5;28;01mfor\u001b[39;00m b \u001b[38;5;129;01min\u001b[39;00m \u001b[38;5;28mrange\u001b[39m(img\u001b[38;5;241m.\u001b[39mshape[\u001b[38;5;241m2\u001b[39m]):\n\u001b[1;32m      9\u001b[0m     img[:, :, b] \u001b[38;5;241m=\u001b[39m img_ds\u001b[38;5;241m.\u001b[39mGetRasterBand(b \u001b[38;5;241m+\u001b[39m \u001b[38;5;241m1\u001b[39m)\u001b[38;5;241m.\u001b[39mReadAsArray()\n",
      "\u001b[0;31mAttributeError\u001b[0m: 'NoneType' object has no attribute 'RasterYSize'"
     ]
    }
   ],
   "source": [
    "# Read in raster image \n",
    "img_ds = gdal.Open('./shared/UAV_test_imagery/SiteA-RGB.tiff', gdal.GA_ReadOnly)\n",
    "\n",
    "\n",
    "img = np.zeros((img_ds.RasterYSize, img_ds.RasterXSize, img_ds.RasterCount),\n",
    "               gdal_array.GDALTypeCodeToNumericTypeCode(img_ds.GetRasterBand(1).DataType))\n",
    "\n",
    "for b in range(img.shape[2]):\n",
    "    img[:, :, b] = img_ds.GetRasterBand(b + 1).ReadAsArray()\n",
    "    \n",
    "new_shape = (img.shape[0] * img.shape[1], img.shape[2])\n",
    "print (img.shape)\n",
    "\n",
    "print (new_shape)\n",
    "\n",
    "\n",
    "X = img[:, :, :13].reshape(new_shape)\n",
    "\n",
    "print (X.shape)"
   ]
  },
  {
   "cell_type": "markdown",
   "id": "98914fc3",
   "metadata": {},
   "source": [
    "## Heading 2\n",
    "\n",
    "Use markdown text for detailed, descriptive text explaining what the code below does and why it is needed.\n"
   ]
  },
  {
   "cell_type": "code",
   "execution_count": 1,
   "id": "9f55b31c",
   "metadata": {},
   "outputs": [],
   "source": [
    "# Use code comments for low-level documentation of code\n",
    "c = 3"
   ]
  },
  {
   "cell_type": "markdown",
   "id": "a1add747",
   "metadata": {},
   "source": [
    "## Additional information\n",
    "\n",
    "<b>License:</b> The code in this notebook is licensed under the Apache License, Version 2.0. Digital Earth Australia data is licensed under the Creative Commons by Attribution 4.0 license.\n",
    "\n",
    "<b>Contact:</b> If you need assistance, please post a question on the Open Data Cube Slack channel or on the GIS Stack Exchange using the open-data-cube tag (you can view previously asked questions here). If you would like to report an issue with this notebook, you can file one on Github.\n",
    "\n",
    "<b>Last modified:</b> May 2020\n",
    "\n",
    "<b>Compatible datacube version:</b>"
   ]
  },
  {
   "cell_type": "code",
   "execution_count": null,
   "id": "0437ddd5",
   "metadata": {},
   "outputs": [],
   "source": [
    "print(datacube.__version__)"
   ]
  },
  {
   "cell_type": "markdown",
   "id": "b9b4c2e9",
   "metadata": {},
   "source": [
    "## Tags \n",
    "Browse all available tags on the VA Data Cube User Guide's Tags Index "
   ]
  }
 ],
 "metadata": {
  "kernelspec": {
   "display_name": "Python 3 (ipykernel)",
   "language": "python",
   "name": "python3"
  },
  "language_info": {
   "codemirror_mode": {
    "name": "ipython",
    "version": 3
   },
   "file_extension": ".py",
   "mimetype": "text/x-python",
   "name": "python",
   "nbconvert_exporter": "python",
   "pygments_lexer": "ipython3",
   "version": "3.9.7"
  }
 },
 "nbformat": 4,
 "nbformat_minor": 5
}
